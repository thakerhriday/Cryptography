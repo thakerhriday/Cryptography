{
  "nbformat": 4,
  "nbformat_minor": 0,
  "metadata": {
    "colab": {
      "provenance": [],
      "authorship_tag": "ABX9TyNhKpOFqNb2ZNmupABlywpj",
      "include_colab_link": true
    },
    "kernelspec": {
      "name": "python3",
      "display_name": "Python 3"
    },
    "language_info": {
      "name": "python"
    }
  },
  "cells": [
    {
      "cell_type": "markdown",
      "metadata": {
        "id": "view-in-github",
        "colab_type": "text"
      },
      "source": [
        "<a href=\"https://colab.research.google.com/github/thakerhriday/Cryptography/blob/main/filencryption.ipynb\" target=\"_parent\"><img src=\"https://colab.research.google.com/assets/colab-badge.svg\" alt=\"Open In Colab\"/></a>"
      ]
    },
    {
      "cell_type": "code",
      "execution_count": null,
      "metadata": {
        "id": "uIMvi1n7gkSY",
        "colab": {
          "base_uri": "https://localhost:8080/"
        },
        "outputId": "44df8bfc-5472-4273-8fd7-6c68d54724a1"
      },
      "outputs": [
        {
          "output_type": "stream",
          "name": "stdout",
          "text": [
            "Enter Path:/content/4.txt\n",
            "File is encrypted\n",
            "Enter decryption key: 26\n",
            "File is decrypted\n"
          ]
        }
      ],
      "source": [
        "import random\n",
        "import os\n",
        "dec_key=random.randint(1,30)\n",
        "path=input('Enter Path:')\n",
        "file= open(f'{path}','r')\n",
        "file_name = os.path.basename(path)\n",
        "data=file.read()\n",
        "data_list=[]\n",
        "data_list[:0]=data\n",
        "file.close()\n",
        "os.remove(path)\n",
        "encrypt=\"\"\n",
        "enc_list=[]\n",
        "l=0\n",
        "for i in data_list:\n",
        "    l+=1\n",
        "    a=ord(i)+dec_key*(l+l*4)\n",
        "    b=chr(a)\n",
        "    enc_list.append(b)\n",
        "    enc_data=encrypt.join(enc_list)\n",
        "enc_file=open(f'{dec_key}.txt','w')\n",
        "enc_file.write(enc_data)\n",
        "enc_file.close()\n",
        "print(\"File is encrypted\")\n",
        "key=int(input(\"Enter decryption key: \"))\n",
        "if key==dec_key:\n",
        "    decrypt=\"\"\n",
        "    dec_list=[]\n",
        "    k=0\n",
        "    for t in enc_list:\n",
        "        k+=1\n",
        "        c=ord(t)-key*(k+k*4)\n",
        "        d=chr(c)\n",
        "        dec_list.append(d)\n",
        "        dec_data=decrypt.join(dec_list)\n",
        "    dec_file=open(f'{file_name}','w')\n",
        "    dec_file.write(dec_data)\n",
        "    dec_file.close()\n",
        "    os.remove(f'{dec_key}.txt')\n",
        "    print(\"File is decrypted\")\n",
        "else:\n",
        "    print(\"Wrong decryption key\")"
      ]
    }
  ]
}