{
  "nbformat": 4,
  "nbformat_minor": 0,
  "metadata": {
    "colab": {
      "provenance": [],
      "authorship_tag": "ABX9TyPXnYF1lNIAMO2GnLAvjIhq",
      "include_colab_link": true
    },
    "kernelspec": {
      "name": "python3",
      "display_name": "Python 3"
    },
    "language_info": {
      "name": "python"
    }
  },
  "cells": [
    {
      "cell_type": "markdown",
      "metadata": {
        "id": "view-in-github",
        "colab_type": "text"
      },
      "source": [
        "<a href=\"https://colab.research.google.com/github/thakerhriday/Cryptography/blob/main/Mini_Project_Code.ipynb\" target=\"_parent\"><img src=\"https://colab.research.google.com/assets/colab-badge.svg\" alt=\"Open In Colab\"/></a>"
      ]
    },
    {
      "cell_type": "code",
      "execution_count": null,
      "metadata": {
        "colab": {
          "base_uri": "https://localhost:8080/"
        },
        "id": "qVARNple7XsJ",
        "outputId": "e95ac2c8-bb3c-42a7-eaf5-ce4bb56f4d2e"
      },
      "outputs": [
        {
          "output_type": "stream",
          "name": "stdout",
          "text": [
            "Enter string to be encrypted:apple\n",
            "Encrypted string is: I W C M U\n"
          ]
        }
      ],
      "source": [
        "#Python program to encrypt a string\n",
        "\n",
        "class hillcipher:\n",
        "  text=input(\"Enter string to be encrypted:\")\n",
        "  text=text.upper()\n",
        "  l=len(text)\n",
        "  textmatrix = [[0] for i in range(l)]\n",
        "  for i in range(l):\n",
        "    textmatrix[i][0] = ord(text[i]) % 65\n",
        "  R=l\n",
        "  C=l\n",
        "  count=0\n",
        "\n",
        "#Declaring a key matrix\n",
        "  keymatrix=[]\n",
        "  for i in range(R):\n",
        "    a =[]\n",
        "    for j in range(C):\n",
        "          a.append(pow(2,count))\n",
        "          count=count+1\n",
        "    keymatrix.append(a)\n",
        "\n",
        "\n",
        "#Encrypting the string\n",
        "  ciphermatrix = [[0] for i in range(l)]\n",
        "  for i in range(len(keymatrix)):\n",
        "    for j in range(len(textmatrix[0])):\n",
        "        for k in range(len(textmatrix)):\n",
        "            ciphermatrix[i][j] += keymatrix[i][k] * textmatrix[k][j]\n",
        "  for i in range(l):\n",
        "    ciphermatrix[i][0]=ciphermatrix[i][0] % 26\n",
        "\n",
        "#Printing\n",
        "  CipherText = []\n",
        "  for i in range(l):\n",
        "      CipherText.append(chr(ciphermatrix[i][0] + 65))\n",
        "  print(\"Encrypted string is:\",*CipherText)\n",
        "\n",
        "#Creating the object of the class\n",
        "obj=hillcipher()"
      ]
    }
  ]
}
