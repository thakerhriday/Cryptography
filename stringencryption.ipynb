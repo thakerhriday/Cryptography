{
  "nbformat": 4,
  "nbformat_minor": 0,
  "metadata": {
    "colab": {
      "provenance": [],
      "authorship_tag": "ABX9TyPULoyrvzTdO5RGaVXBLkSG",
      "include_colab_link": true
    },
    "kernelspec": {
      "name": "python3",
      "display_name": "Python 3"
    },
    "language_info": {
      "name": "python"
    }
  },
  "cells": [
    {
      "cell_type": "markdown",
      "metadata": {
        "id": "view-in-github",
        "colab_type": "text"
      },
      "source": [
        "<a href=\"https://colab.research.google.com/github/thakerhriday/Cryptography/blob/main/stringencryption.ipynb\" target=\"_parent\"><img src=\"https://colab.research.google.com/assets/colab-badge.svg\" alt=\"Open In Colab\"/></a>"
      ]
    },
    {
      "cell_type": "code",
      "execution_count": null,
      "metadata": {
        "colab": {
          "background_save": true,
          "base_uri": "https://localhost:8080/"
        },
        "id": "v2EuTUD0TmGg",
        "outputId": "16fb1320-1a84-4d12-c1c8-4d6979a16f44"
      },
      "outputs": [
        {
          "name": "stdout",
          "output_type": "stream",
          "text": [
            "Encrypted data: áł\n",
            "Decryption key: 16\n"
          ]
        }
      ],
      "source": [
        "import random\n",
        "dec_key=random.randint(1,30)\n",
        "string=input(\"Enter data: \")\n",
        "list1=[]\n",
        "list1[:0]=string\n",
        "n=len(list1)\n",
        "encrypt=\"\"\n",
        "list2=[]\n",
        "l=0\n",
        "for i in list1:\n",
        "    l+=1\n",
        "    a=ord(i)+dec_key*(l+l*4)\n",
        "    b=chr(a)\n",
        "    list2.append(b)\n",
        "output=encrypt.join(list2)\n",
        "print(\"Encrypted data:\",output)\n",
        "print(\"Decryption key:\",dec_key)\n",
        "key=int(input(\"Enter decryption key: \"))\n",
        "if key==dec_key:\n",
        "    decrypt=\"\"\n",
        "    list3=[]\n",
        "    k=0\n",
        "    for t in list2:\n",
        "        k+=1\n",
        "        c=ord(t)-key*(k+k*4)\n",
        "        d=chr(c)\n",
        "        list3.append(d)\n",
        "    result=decrypt.join(list3)\n",
        "    print(\"Decrypted data:\",result)\n",
        "else:\n",
        "    print(\"Wrong decryption key\")"
      ]
    }
  ]
}